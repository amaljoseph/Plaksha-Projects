{
 "cells": [
  {
   "cell_type": "code",
   "execution_count": 378,
   "metadata": {
    "id": "dlfrIn21B56S"
   },
   "outputs": [],
   "source": [
    "# !pip install git+https://github.com/NVIDIAGameWorks/kaolin"
   ]
  },
  {
   "cell_type": "code",
   "execution_count": 9,
   "metadata": {
    "id": "kzyK_g_CB8pd"
   },
   "outputs": [],
   "source": [
    "import torch\r\n",
    "import numpy as np\r\n",
    "from kaolin import render,ops,io,metrics\r\n",
    "from PIL import Image\r\n",
    "import os"
   ]
  },
  {
   "cell_type": "code",
   "execution_count": 10,
   "metadata": {
    "id": "4cnx_NVqEeXh"
   },
   "outputs": [],
   "source": [
    "mesh=io.obj.import_mesh('sofa_03.obj',with_materials=False,with_normals=True)"
   ]
  },
  {
   "cell_type": "code",
   "execution_count": 11,
   "metadata": {
    "id": "x1uhXCtlIFKu"
   },
   "outputs": [],
   "source": [
    "# mesh.face_normals ?\r\n",
    "# mesh.faces ?\r\n",
    "# mesh.vertex_normals.shape\r\n",
    "# mesh.vertices"
   ]
  },
  {
   "cell_type": "code",
   "execution_count": 12,
   "metadata": {
    "id": "57g02NCEIfgy"
   },
   "outputs": [],
   "source": [
    "vertices = mesh.vertices.unsqueeze(0).cuda()\r\n",
    "vertex_normals= mesh.vertex_normals.unsqueeze(0).cuda()"
   ]
  },
  {
   "cell_type": "code",
   "execution_count": 13,
   "metadata": {
    "colab": {
     "base_uri": "https://localhost:8080/"
    },
    "id": "-37zCTCmW2mb",
    "outputId": "ae6a49a2-6c1f-46be-8420-1ecbe19e8715"
   },
   "outputs": [
    {
     "data": {
      "text/plain": [
       "torch.Size([15924, 3])"
      ]
     },
     "execution_count": 13,
     "metadata": {},
     "output_type": "execute_result"
    }
   ],
   "source": [
    "faces = mesh.faces.cuda()\r\n",
    "faces.shape"
   ]
  },
  {
   "cell_type": "code",
   "execution_count": 14,
   "metadata": {
    "id": "v5XP54d6R-0P"
   },
   "outputs": [],
   "source": [
    "look_at = (vertices.max(dim=1)[0] + vertices.min(dim=1)[0])/2.\r\n",
    "camera_up_dir = torch.tensor([[0.,1.,0.]],device='cuda')\r\n",
    "# lights = torch.tensor([[1.,1.,1.,1.,0.,0.,0.,0.,0.]],device='cuda')"
   ]
  },
  {
   "cell_type": "code",
   "execution_count": 15,
   "metadata": {
    "id": "_tWcZ5LtRvku"
   },
   "outputs": [],
   "source": [
    "camera_position = torch.tensor([[50.,0.,0.]],device='cuda')\r\n",
    "camera_rot , camera_trans = render.camera.generate_rotate_translate_matrices(camera_position, look_at, camera_up_dir)"
   ]
  },
  {
   "cell_type": "code",
   "execution_count": 16,
   "metadata": {
    "colab": {
     "base_uri": "https://localhost:8080/"
    },
    "id": "Oz8hT4vRPe4H",
    "outputId": "3d8bab2b-ff2c-40d3-8920-e339b5e80668"
   },
   "outputs": [
    {
     "data": {
      "text/plain": [
       "torch.Size([1, 7988, 3])"
      ]
     },
     "execution_count": 16,
     "metadata": {},
     "output_type": "execute_result"
    }
   ],
   "source": [
    "render.camera.rotate_translate_points(vertices, camera_rot, camera_trans).shape\r\n",
    "# 3D points in new rotation, of same shape than points."
   ]
  },
  {
   "cell_type": "code",
   "execution_count": 21,
   "metadata": {
    "id": "WEt-Kc5QJ-Hk"
   },
   "outputs": [],
   "source": [
    "camera_proj = render.camera.generate_perspective_projection(60, ratio=1.0, dtype=torch.float32).cuda()\r",
    "# camera_proj = render.camera.camera_projection.cuda()\r\n",
    "# camera projection matrix, of shape (3,1)."
   ]
  },
  {
   "cell_type": "code",
   "execution_count": 26,
   "metadata": {
    "id": "KIw1lhmTOMSR"
   },
   "outputs": [],
   "source": [
    "two_d_projection = render.camera.perspective_camera(vertices, camera_proj).cuda()\r\n",
    "# 2D points on image plane of shape (batch_size,num_points,2)."
   ]
  },
  {
   "cell_type": "code",
   "execution_count": 29,
   "metadata": {
    "colab": {
     "base_uri": "https://localhost:8080/",
     "height": 69
    },
    "id": "RpLvyJiBTsR-",
    "outputId": "f16d9344-e24f-4706-b6b2-b5a09463aac5"
   },
   "outputs": [
    {
     "ename": "NameError",
     "evalue": "name 'camera' is not defined",
     "output_type": "error",
     "traceback": [
      "\u001b[0;31m---------------------------------------------------------------------------\u001b[0m",
      "\u001b[0;31mNameError\u001b[0m                                 Traceback (most recent call last)",
      "\u001b[0;32m<ipython-input-29-2a565fa43526>\u001b[0m in \u001b[0;36m<module>\u001b[0;34m\u001b[0m\n\u001b[0;32m----> 1\u001b[0;31m \u001b[0mrender\u001b[0m\u001b[0;34m.\u001b[0m\u001b[0mmesh\u001b[0m\u001b[0;34m.\u001b[0m\u001b[0mprepare_vertices\u001b[0m\u001b[0;34m(\u001b[0m\u001b[0mvertices\u001b[0m\u001b[0;34m,\u001b[0m \u001b[0mfaces\u001b[0m\u001b[0;34m,\u001b[0m \u001b[0mcamera_rot\u001b[0m\u001b[0;34m,\u001b[0m \u001b[0mcamera_trans\u001b[0m\u001b[0;34m,\u001b[0m \u001b[0mcamera_proj\u001b[0m\u001b[0;34m)\u001b[0m\u001b[0;34m.\u001b[0m\u001b[0mcuda\u001b[0m\u001b[0;34m(\u001b[0m\u001b[0;34m)\u001b[0m\u001b[0;34m\u001b[0m\u001b[0;34m\u001b[0m\u001b[0m\n\u001b[0m\u001b[1;32m      2\u001b[0m '''The vertices in camera coordinate indexed by faces, of shape (batch_size,num_faces,face_size,3). \n\u001b[1;32m      3\u001b[0m \u001b[0mThe\u001b[0m \u001b[0mvertices\u001b[0m \u001b[0;32min\u001b[0m \u001b[0mcamera\u001b[0m \u001b[0mplan\u001b[0m \u001b[0mcoordinate\u001b[0m \u001b[0mindexed\u001b[0m \u001b[0mby\u001b[0m \u001b[0mfaces\u001b[0m\u001b[0;34m,\u001b[0m \u001b[0mof\u001b[0m \u001b[0mshape\u001b[0m \u001b[0;34m(\u001b[0m\u001b[0mbatch_size\u001b[0m\u001b[0;34m,\u001b[0m\u001b[0mnum_faces\u001b[0m\u001b[0;34m,\u001b[0m\u001b[0mface_size\u001b[0m\u001b[0;34m,\u001b[0m\u001b[0;36m2\u001b[0m\u001b[0;34m)\u001b[0m\u001b[0;34m.\u001b[0m\u001b[0;34m\u001b[0m\u001b[0;34m\u001b[0m\u001b[0m\n\u001b[1;32m      4\u001b[0m  The face normals, of shape (batch_size,num_faces).'''\n",
      "\u001b[0;32m~/kaolin/kaolin/render/mesh/utils.py\u001b[0m in \u001b[0;36mprepare_vertices\u001b[0;34m(vertices, faces, camera_rot, camera_trans, camera_proj)\u001b[0m\n\u001b[1;32m    128\u001b[0m             \u001b[0mThe\u001b[0m \u001b[0mface\u001b[0m \u001b[0mnormals\u001b[0m\u001b[0;34m,\u001b[0m \u001b[0mof\u001b[0m \u001b[0mshape\u001b[0m \u001b[0;34m:\u001b[0m\u001b[0mmath\u001b[0m\u001b[0;34m:\u001b[0m\u001b[0;31m`\u001b[0m\u001b[0;34m(\u001b[0m\u001b[0;31m\\\u001b[0m\u001b[0mtext\u001b[0m\u001b[0;34m{\u001b[0m\u001b[0mbatch_size\u001b[0m\u001b[0;34m}\u001b[0m\u001b[0;34m,\u001b[0m\u001b[0;31m \u001b[0m\u001b[0;31m\\\u001b[0m\u001b[0mtext\u001b[0m\u001b[0;34m{\u001b[0m\u001b[0mnum_faces\u001b[0m\u001b[0;34m}\u001b[0m\u001b[0;34m)\u001b[0m\u001b[0;31m`\u001b[0m\u001b[0;34m.\u001b[0m\u001b[0;34m\u001b[0m\u001b[0;34m\u001b[0m\u001b[0m\n\u001b[1;32m    129\u001b[0m     \"\"\"\n\u001b[0;32m--> 130\u001b[0;31m     \u001b[0mvertices_camera\u001b[0m \u001b[0;34m=\u001b[0m \u001b[0mcamera\u001b[0m\u001b[0;34m.\u001b[0m\u001b[0mrotate_translate_points\u001b[0m\u001b[0;34m(\u001b[0m\u001b[0mvertices\u001b[0m\u001b[0;34m,\u001b[0m \u001b[0mcamera_rot\u001b[0m\u001b[0;34m,\u001b[0m \u001b[0mcamera_trans\u001b[0m\u001b[0;34m)\u001b[0m\u001b[0;34m\u001b[0m\u001b[0;34m\u001b[0m\u001b[0m\n\u001b[0m\u001b[1;32m    131\u001b[0m     \u001b[0mvertices_image\u001b[0m \u001b[0;34m=\u001b[0m \u001b[0mcamera\u001b[0m\u001b[0;34m.\u001b[0m\u001b[0mperspective_camera\u001b[0m\u001b[0;34m(\u001b[0m\u001b[0mvertices_camera\u001b[0m\u001b[0;34m,\u001b[0m \u001b[0mcamera_proj\u001b[0m\u001b[0;34m)\u001b[0m\u001b[0;34m\u001b[0m\u001b[0;34m\u001b[0m\u001b[0m\n\u001b[1;32m    132\u001b[0m     \u001b[0mface_vertices_camera\u001b[0m \u001b[0;34m=\u001b[0m \u001b[0mops\u001b[0m\u001b[0;34m.\u001b[0m\u001b[0mmesh\u001b[0m\u001b[0;34m.\u001b[0m\u001b[0mindex_vertices_by_faces\u001b[0m\u001b[0;34m(\u001b[0m\u001b[0mvertices_camera\u001b[0m\u001b[0;34m,\u001b[0m \u001b[0mfaces\u001b[0m\u001b[0;34m)\u001b[0m\u001b[0;34m\u001b[0m\u001b[0;34m\u001b[0m\u001b[0m\n",
      "\u001b[0;31mNameError\u001b[0m: name 'camera' is not defined"
     ]
    }
   ],
   "source": [
    "render.mesh.prepare_vertices(vertices, faces, camera_rot, camera_trans, camera_proj).cuda()\r\n",
    "'''The vertices in camera coordinate indexed by faces, of shape (batch_size,num_faces,face_size,3). \r\n",
    "The vertices in camera plan coordinate indexed by faces, of shape (batch_size,num_faces,face_size,2).\r\n",
    " The face normals, of shape (batch_size,num_faces).'''"
   ]
  },
  {
   "cell_type": "code",
   "execution_count": 28,
   "metadata": {
    "id": "aEAnH0NhaArx"
   },
   "outputs": [
    {
     "ename": "NameError",
     "evalue": "name 'camera' is not defined",
     "output_type": "error",
     "traceback": [
      "\u001b[0;31m---------------------------------------------------------------------------\u001b[0m",
      "\u001b[0;31mNameError\u001b[0m                                 Traceback (most recent call last)",
      "\u001b[0;32m<ipython-input-28-3610ac7366cb>\u001b[0m in \u001b[0;36m<module>\u001b[0;34m\u001b[0m\n\u001b[0;32m----> 1\u001b[0;31m \u001b[0mface_vertices_z\u001b[0m \u001b[0;34m=\u001b[0m \u001b[0mrender\u001b[0m\u001b[0;34m.\u001b[0m\u001b[0mmesh\u001b[0m\u001b[0;34m.\u001b[0m\u001b[0mprepare_vertices\u001b[0m\u001b[0;34m(\u001b[0m\u001b[0mvertices\u001b[0m\u001b[0;34m,\u001b[0m \u001b[0mfaces\u001b[0m\u001b[0;34m,\u001b[0m \u001b[0mcamera_rot\u001b[0m\u001b[0;34m,\u001b[0m \u001b[0mcamera_trans\u001b[0m\u001b[0;34m,\u001b[0m \u001b[0mcamera_proj\u001b[0m\u001b[0;34m)\u001b[0m\u001b[0;34m[\u001b[0m\u001b[0;36m0\u001b[0m\u001b[0;34m]\u001b[0m\u001b[0;34m[\u001b[0m\u001b[0;34m:\u001b[0m\u001b[0;34m,\u001b[0m\u001b[0;34m:\u001b[0m\u001b[0;34m,\u001b[0m\u001b[0;34m:\u001b[0m\u001b[0;34m,\u001b[0m\u001b[0;36m2\u001b[0m\u001b[0;34m]\u001b[0m\u001b[0;34m\u001b[0m\u001b[0;34m\u001b[0m\u001b[0m\n\u001b[0m",
      "\u001b[0;32m~/kaolin/kaolin/render/mesh/utils.py\u001b[0m in \u001b[0;36mprepare_vertices\u001b[0;34m(vertices, faces, camera_rot, camera_trans, camera_proj)\u001b[0m\n\u001b[1;32m    128\u001b[0m             \u001b[0mThe\u001b[0m \u001b[0mface\u001b[0m \u001b[0mnormals\u001b[0m\u001b[0;34m,\u001b[0m \u001b[0mof\u001b[0m \u001b[0mshape\u001b[0m \u001b[0;34m:\u001b[0m\u001b[0mmath\u001b[0m\u001b[0;34m:\u001b[0m\u001b[0;31m`\u001b[0m\u001b[0;34m(\u001b[0m\u001b[0;31m\\\u001b[0m\u001b[0mtext\u001b[0m\u001b[0;34m{\u001b[0m\u001b[0mbatch_size\u001b[0m\u001b[0;34m}\u001b[0m\u001b[0;34m,\u001b[0m\u001b[0;31m \u001b[0m\u001b[0;31m\\\u001b[0m\u001b[0mtext\u001b[0m\u001b[0;34m{\u001b[0m\u001b[0mnum_faces\u001b[0m\u001b[0;34m}\u001b[0m\u001b[0;34m)\u001b[0m\u001b[0;31m`\u001b[0m\u001b[0;34m.\u001b[0m\u001b[0;34m\u001b[0m\u001b[0;34m\u001b[0m\u001b[0m\n\u001b[1;32m    129\u001b[0m     \"\"\"\n\u001b[0;32m--> 130\u001b[0;31m     \u001b[0mvertices_camera\u001b[0m \u001b[0;34m=\u001b[0m \u001b[0mcamera\u001b[0m\u001b[0;34m.\u001b[0m\u001b[0mrotate_translate_points\u001b[0m\u001b[0;34m(\u001b[0m\u001b[0mvertices\u001b[0m\u001b[0;34m,\u001b[0m \u001b[0mcamera_rot\u001b[0m\u001b[0;34m,\u001b[0m \u001b[0mcamera_trans\u001b[0m\u001b[0;34m)\u001b[0m\u001b[0;34m\u001b[0m\u001b[0;34m\u001b[0m\u001b[0m\n\u001b[0m\u001b[1;32m    131\u001b[0m     \u001b[0mvertices_image\u001b[0m \u001b[0;34m=\u001b[0m \u001b[0mcamera\u001b[0m\u001b[0;34m.\u001b[0m\u001b[0mperspective_camera\u001b[0m\u001b[0;34m(\u001b[0m\u001b[0mvertices_camera\u001b[0m\u001b[0;34m,\u001b[0m \u001b[0mcamera_proj\u001b[0m\u001b[0;34m)\u001b[0m\u001b[0;34m\u001b[0m\u001b[0;34m\u001b[0m\u001b[0m\n\u001b[1;32m    132\u001b[0m     \u001b[0mface_vertices_camera\u001b[0m \u001b[0;34m=\u001b[0m \u001b[0mops\u001b[0m\u001b[0;34m.\u001b[0m\u001b[0mmesh\u001b[0m\u001b[0;34m.\u001b[0m\u001b[0mindex_vertices_by_faces\u001b[0m\u001b[0;34m(\u001b[0m\u001b[0mvertices_camera\u001b[0m\u001b[0;34m,\u001b[0m \u001b[0mfaces\u001b[0m\u001b[0;34m)\u001b[0m\u001b[0;34m\u001b[0m\u001b[0;34m\u001b[0m\u001b[0m\n",
      "\u001b[0;31mNameError\u001b[0m: name 'camera' is not defined"
     ]
    }
   ],
   "source": [
    "face_vertices_z = render.mesh.prepare_vertices(vertices, faces, camera_rot, camera_trans, camera_proj)[0][:,:,:,2]"
   ]
  },
  {
   "cell_type": "code",
   "execution_count": 391,
   "metadata": {
    "id": "_DIvyDWSYPPF"
   },
   "outputs": [],
   "source": [
    "face_vertices_image = render.mesh.prepare_vertices(vertices, faces, camera_rot, camera_trans, camera_proj)[1]"
   ]
  },
  {
   "cell_type": "code",
   "execution_count": 392,
   "metadata": {
    "id": "pw9nsDVhYWpq"
   },
   "outputs": [],
   "source": [
    "face_normals_z = render.mesh.prepare_vertices(vertices, faces, camera_rot, camera_trans, camera_proj)[2][:,:,2]"
   ]
  },
  {
   "cell_type": "code",
   "execution_count": 393,
   "metadata": {
    "colab": {
     "base_uri": "https://localhost:8080/"
    },
    "id": "GMNgKhF7tTxm",
    "outputId": "6ec9a86b-2b21-40df-f3b1-7cf5ed8e4639"
   },
   "outputs": [
    {
     "data": {
      "text/plain": [
       "torch.Size([15924, 3])"
      ]
     },
     "execution_count": 393,
     "metadata": {
      "tags": []
     },
     "output_type": "execute_result"
    }
   ],
   "source": [
    "faces.shape"
   ]
  },
  {
   "cell_type": "code",
   "execution_count": 394,
   "metadata": {
    "colab": {
     "base_uri": "https://localhost:8080/",
     "height": 69
    },
    "id": "FqHwlyy-d3wa",
    "outputId": "da0a484a-ddd6-4f4e-9aa7-48a605efb8c1"
   },
   "outputs": [
    {
     "data": {
      "application/vnd.google.colaboratory.intrinsic+json": {
       "type": "string"
      },
      "text/plain": [
       "'Features (per-vertex per-face) to be drawn, of shape (batch_size,num_faces,3,feature_dim),\\n feature is the features dimension, for instance with vertex colors num_features=3 (R, G, B),\\n and texture coordinates num_features=2 (X, Y), or a list of num_features, of\\n shapes (batch_size,num_faces,3,feature_dim[i])'"
      ]
     },
     "execution_count": 394,
     "metadata": {
      "tags": []
     },
     "output_type": "execute_result"
    }
   ],
   "source": [
    "# ?\r\n",
    "face_features = faces.reshape((1,faces.shape[0],3,1)).cuda().float()\r\n",
    "'''Features (per-vertex per-face) to be drawn, of shape (batch_size,num_faces,3,feature_dim),\r\n",
    " feature is the features dimension, for instance with vertex colors num_features=3 (R, G, B),\r\n",
    " and texture coordinates num_features=2 (X, Y), or a list of num_features, of\r\n",
    " shapes (batch_size,num_faces,3,feature_dim[i])'''"
   ]
  },
  {
   "cell_type": "code",
   "execution_count": 395,
   "metadata": {
    "id": "Rbo3dv_4W0x4"
   },
   "outputs": [],
   "source": [
    "rendered = render.mesh.dibr_rasterization(512, 512, face_vertices_z, face_vertices_image, face_features, face_normals_z, sigmainv=7000, boxlen=0.02, knum=30, multiplier=1000)"
   ]
  },
  {
   "cell_type": "code",
   "execution_count": 396,
   "metadata": {
    "id": "JlSmVdnyn_b_"
   },
   "outputs": [],
   "source": [
    "from matplotlib import pyplot as plt"
   ]
  },
  {
   "cell_type": "code",
   "execution_count": 397,
   "metadata": {
    "colab": {
     "base_uri": "https://localhost:8080/",
     "height": 286
    },
    "id": "uY8rosaMpFW_",
    "outputId": "5878f720-84dd-4e2c-9e3f-b2404ea4989e"
   },
   "outputs": [
    {
     "data": {
      "text/plain": [
       "<matplotlib.image.AxesImage at 0x7f25072b6710>"
      ]
     },
     "execution_count": 397,
     "metadata": {
      "tags": []
     },
     "output_type": "execute_result"
    },
    {
     "data": {
      "image/png": "[encoded data removed]",
      "text/plain": [
       "<Figure size 432x288 with 1 Axes>"
      ]
     },
     "metadata": {
      "needs_background": "light",
      "tags": []
     },
     "output_type": "display_data"
    }
   ],
   "source": [
    "plt.imshow(rendered[0].squeeze(0).squeeze(2).cpu().numpy())"
   ]
  },
  {
   "cell_type": "code",
   "execution_count": 398,
   "metadata": {
    "colab": {
     "base_uri": "https://localhost:8080/"
    },
    "id": "-llcpFYpqegy",
    "outputId": "94702144-345f-4cf5-f82f-452432b6675c"
   },
   "outputs": [
    {
     "data": {
      "text/plain": [
       "(tensor([[[[0.],\n",
       "           [0.],\n",
       "           [0.],\n",
       "           ...,\n",
       "           [0.],\n",
       "           [0.],\n",
       "           [0.]],\n",
       " \n",
       "          [[0.],\n",
       "           [0.],\n",
       "           [0.],\n",
       "           ...,\n",
       "           [0.],\n",
       "           [0.],\n",
       "           [0.]],\n",
       " \n",
       "          [[0.],\n",
       "           [0.],\n",
       "           [0.],\n",
       "           ...,\n",
       "           [0.],\n",
       "           [0.],\n",
       "           [0.]],\n",
       " \n",
       "          ...,\n",
       " \n",
       "          [[0.],\n",
       "           [0.],\n",
       "           [0.],\n",
       "           ...,\n",
       "           [0.],\n",
       "           [0.],\n",
       "           [0.]],\n",
       " \n",
       "          [[0.],\n",
       "           [0.],\n",
       "           [0.],\n",
       "           ...,\n",
       "           [0.],\n",
       "           [0.],\n",
       "           [0.]],\n",
       " \n",
       "          [[0.],\n",
       "           [0.],\n",
       "           [0.],\n",
       "           ...,\n",
       "           [0.],\n",
       "           [0.],\n",
       "           [0.]]]], device='cuda:0'), tensor([[[0., 0., 0.,  ..., 0., 0., 0.],\n",
       "          [0., 0., 0.,  ..., 0., 0., 0.],\n",
       "          [0., 0., 0.,  ..., 0., 0., 0.],\n",
       "          ...,\n",
       "          [0., 0., 0.,  ..., 0., 0., 0.],\n",
       "          [0., 0., 0.,  ..., 0., 0., 0.],\n",
       "          [0., 0., 0.,  ..., 0., 0., 0.]]], device='cuda:0'), tensor([[[-1, -1, -1,  ..., -1, -1, -1],\n",
       "          [-1, -1, -1,  ..., -1, -1, -1],\n",
       "          [-1, -1, -1,  ..., -1, -1, -1],\n",
       "          ...,\n",
       "          [-1, -1, -1,  ..., -1, -1, -1],\n",
       "          [-1, -1, -1,  ..., -1, -1, -1],\n",
       "          [-1, -1, -1,  ..., -1, -1, -1]]], device='cuda:0'))"
      ]
     },
     "execution_count": 398,
     "metadata": {
      "tags": []
     },
     "output_type": "execute_result"
    }
   ],
   "source": [
    "rendered"
   ]
  },
  {
   "cell_type": "code",
   "execution_count": 398,
   "metadata": {
    "id": "WW8w4doErs6X"
   },
   "outputs": [],
   "source": []
  }
 ],
 "metadata": {
  "accelerator": "GPU",
  "colab": {
   "name": "Untitled20.ipynb",
   "provenance": []
  },
  "kernelspec": {
   "display_name": "Python 3",
   "language": "python",
   "name": "python3"
  },
  "language_info": {
   "codemirror_mode": {
    "name": "ipython",
    "version": 3
   },
   "file_extension": ".py",
   "mimetype": "text/x-python",
   "name": "python",
   "nbconvert_exporter": "python",
   "pygments_lexer": "ipython3",
   "version": "3.7.9"
  }
 },
 "nbformat": 4,
 "nbformat_minor": 4
}
