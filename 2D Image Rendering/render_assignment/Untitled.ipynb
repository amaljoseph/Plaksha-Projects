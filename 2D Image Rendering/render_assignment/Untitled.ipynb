{
 "cells": [
  {
   "cell_type": "code",
   "execution_count": 1,
   "id": "international-photographer",
   "metadata": {},
   "outputs": [],
   "source": [
    "import kaolin as kal\n",
    "import pywavefront as pwf"
   ]
  },
  {
   "cell_type": "code",
   "execution_count": 2,
   "id": "senior-leader",
   "metadata": {},
   "outputs": [],
   "source": [
    "import torch\n",
    "import numpy as np\n",
    "import os"
   ]
  },
  {
   "cell_type": "code",
   "execution_count": 3,
   "id": "pregnant-trail",
   "metadata": {},
   "outputs": [],
   "source": [
    "from pathlib import Path"
   ]
  },
  {
   "cell_type": "code",
   "execution_count": 26,
   "id": "serial-blackjack",
   "metadata": {},
   "outputs": [],
   "source": [
    "obj_file = 'sofa_01.obj'\n",
    "scene = pwf.Wavefront(obj_file, strict=True, encoding=\"iso-8859-1\", parse=False)"
   ]
  },
  {
   "cell_type": "code",
   "execution_count": 29,
   "id": "representative-circular",
   "metadata": {},
   "outputs": [
    {
     "ename": "TypeError",
     "evalue": "load_mtl() missing 1 required positional argument: 'error_handler'",
     "output_type": "error",
     "traceback": [
      "\u001b[0;31m---------------------------------------------------------------------------\u001b[0m",
      "\u001b[0;31mTypeError\u001b[0m                                 Traceback (most recent call last)",
      "\u001b[0;32m<ipython-input-29-77adbaad5728>\u001b[0m in \u001b[0;36m<module>\u001b[0;34m\u001b[0m\n\u001b[1;32m      1\u001b[0m \u001b[0;31m# scene.parse()\u001b[0m\u001b[0;34m\u001b[0m\u001b[0;34m\u001b[0m\u001b[0;34m\u001b[0m\u001b[0m\n\u001b[0;32m----> 2\u001b[0;31m \u001b[0mscene2\u001b[0m \u001b[0;34m=\u001b[0m \u001b[0mkal\u001b[0m\u001b[0;34m.\u001b[0m\u001b[0mio\u001b[0m\u001b[0;34m.\u001b[0m\u001b[0mobj\u001b[0m\u001b[0;34m.\u001b[0m\u001b[0mload_mtl\u001b[0m\u001b[0;34m(\u001b[0m\u001b[0;34m'SSS_061.mtl'\u001b[0m\u001b[0;34m)\u001b[0m\u001b[0;34m\u001b[0m\u001b[0;34m\u001b[0m\u001b[0m\n\u001b[0m",
      "\u001b[0;31mTypeError\u001b[0m: load_mtl() missing 1 required positional argument: 'error_handler'"
     ]
    }
   ],
   "source": [
    "# scene.parse()\n",
    "scene2 = kal.io.obj.load_mtl('SSS_061.mtl')"
   ]
  },
  {
   "cell_type": "code",
   "execution_count": 30,
   "id": "provincial-implement",
   "metadata": {},
   "outputs": [],
   "source": [
    "import torchvision"
   ]
  },
  {
   "cell_type": "code",
   "execution_count": null,
   "id": "informal-record",
   "metadata": {},
   "outputs": [],
   "source": [
    "res = kal.visualize.Timelapse"
   ]
  }
 ],
 "metadata": {
  "kernelspec": {
   "display_name": "Python 3",
   "language": "python",
   "name": "python3"
  },
  "language_info": {
   "codemirror_mode": {
    "name": "ipython",
    "version": 3
   },
   "file_extension": ".py",
   "mimetype": "text/x-python",
   "name": "python",
   "nbconvert_exporter": "python",
   "pygments_lexer": "ipython3",
   "version": "3.7.9"
  }
 },
 "nbformat": 4,
 "nbformat_minor": 5
}
